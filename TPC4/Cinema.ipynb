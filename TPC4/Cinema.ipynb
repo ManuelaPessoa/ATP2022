{
 "cells": [
  {
   "cell_type": "code",
   "execution_count": 2,
   "metadata": {},
   "outputs": [
    {
     "name": "stdout",
     "output_type": "stream",
     "text": [
      "Os filmes em exibição são:\n",
      "\n",
      "    Menu:\n",
      "    1 : Listar filmes em exibição;\n",
      "    2 : Verificar disponibilidade de um lugar;\n",
      "    3 : Vender bilhete;\n",
      "    4 : Listar número de lugares disponíveis por filme;\n",
      "    5 : Inserir sala;\n",
      "    0 : Sair.\n"
     ]
    },
    {
     "ename": "ValueError",
     "evalue": "invalid literal for int() with base 10: ''",
     "output_type": "error",
     "traceback": [
      "\u001b[1;31m---------------------------------------------------------------------------\u001b[0m",
      "\u001b[1;31mValueError\u001b[0m                                Traceback (most recent call last)",
      "Cell \u001b[1;32mIn [2], line 77\u001b[0m\n\u001b[0;32m     75\u001b[0m     cinema\u001b[39m=\u001b[39minserirSala(cinema, sala)\n\u001b[0;32m     76\u001b[0m menu()\n\u001b[1;32m---> 77\u001b[0m option\u001b[39m=\u001b[39m\u001b[39mint\u001b[39;49m(\u001b[39minput\u001b[39;49m(\u001b[39m\"\u001b[39;49m\u001b[39mSelecione uma opção:\u001b[39;49m\u001b[39m\"\u001b[39;49m))\n",
      "\u001b[1;31mValueError\u001b[0m: invalid literal for int() with base 10: ''"
     ]
    }
   ],
   "source": [
    "def menu():\n",
    "    print('''\n",
    "    Menu:\n",
    "    1 : Listar filmes em exibição;\n",
    "    2 : Verificar disponibilidade de um lugar;\n",
    "    3 : Vender bilhete;\n",
    "    4 : Listar número de lugares disponíveis por filme;\n",
    "    5 : Inserir sala;\n",
    "    0 : Sair.''')   \n",
    "option=int(input(\"Selecione uma opção:\"))\n",
    "\n",
    "\n",
    "cinema=[]\n",
    "\n",
    "def listar(cinema):\n",
    "    print(\"Os filmes em exibição são:\")\n",
    "    for sala in cinema:\n",
    "        print(sala[2])\n",
    "    return\n",
    "\n",
    "def disponivel(cinema, filmep, lugar):\n",
    "    res=False\n",
    "    for sala in cinema:\n",
    "        lugares, vendidos, filme= sala\n",
    "        if filmep==filme and lugar not in vendidos and lugar<lugares:\n",
    "            res=True\n",
    "    return res\n",
    "\n",
    "def vendebilhete(cinema, filmep, lugar):\n",
    "    if disponivel(cinema, filmep, lugar):\n",
    "        for sala in cinema:\n",
    "            filme=sala[2]\n",
    "            if filmep==filme:\n",
    "                sala[1].append(lugar)\n",
    "                sala[1].sort\n",
    "        print(\"O bilhete foi vendido.\")\n",
    "    else:\n",
    "        print(\"O lugar não se encontra disponível.\")\n",
    "    return cinema\n",
    "\n",
    "def listardisponibilidade(cinema):\n",
    "    for sala in cinema:\n",
    "        lugares, vendidos, filme= sala\n",
    "        print(\"---------------------\")\n",
    "        print(\"Filme:\", filme)\n",
    "        print(\"Lugares disponíveis:\", lugares-len(vendidos))\n",
    "\n",
    "def inserirSala(cinema, sala):\n",
    "    if sala not in cinema:\n",
    "        cinema.append(sala)\n",
    "    return cinema \n",
    "    \n",
    "while option!=0:\n",
    "    if option==1:\n",
    "        listar(cinema)\n",
    "    if option==2:\n",
    "        filmep=str(input(\"Insira o filme:\"))\n",
    "        lugar=int(input(\"Insira o lugar:\"))\n",
    "        if disponivel(cinema,filmep,lugar):\n",
    "            print(\"O lugar encontra-se disponível\")\n",
    "        else:\n",
    "            print(\"O lugar não se encontra disponível\")\n",
    "\n",
    "    if option==3:\n",
    "        filmep=str(input(\"Insira o filme:\"))\n",
    "        lugar=int(input(\"Insira o lugar:\"))\n",
    "        cinema=vendebilhete(cinema, filmep, lugar)\n",
    "    if option==4:\n",
    "        listardisponibilidade(cinema)\n",
    "    if option==5:\n",
    "        sala=[]\n",
    "        sala.append(int(input(\"Insira o número de lugares da sala:\")))\n",
    "        sala.append([])\n",
    "        sala.append(str(input(\"Insira o nome do filme em exibição:\")))\n",
    "        cinema=inserirSala(cinema, sala)\n",
    "    menu()\n",
    "    option=int(input(\"Selecione uma opção:\"))\n",
    "    "
   ]
  },
  {
   "cell_type": "markdown",
   "metadata": {},
   "source": [
    "1. `listar( cinema )` - que lista no monitor todos os filmes que estão em exibição nas salas do cinema passado como argumento;\n",
    "2. `disponivel( cinema, filme, lugar )` - que dá como resultado **False** se o lugar lugar já estiver ocupado na sala onde o filme está a ser exibido e dará como resultado **True** se o inverso acontecer;\n",
    "3. `vendebilhete( cinema, filme, lugar )` - que dá como resultado um novo cinema resultante de acrescentar o lugar à lista dos lugares ocupados, na sala onde está a ser exibido o filme;\n",
    "4. `listardisponibilidades( cinema )` - que, para um dado cinema, lista no monitor para cada sala, o filme que está a ser exibido e o total de lugares disponíveis nessa sala (número de lugares na sala menos o número de lugares ocupados);\n",
    "5. `inserirSala( cinema, sala )` - que acrescenta uma sala nova a um cinema (devendo verificar se a sala já existe);"
   ]
  }
 ],
 "metadata": {
  "kernelspec": {
   "display_name": "Python 3.10.8 64-bit (microsoft store)",
   "language": "python",
   "name": "python3"
  },
  "language_info": {
   "codemirror_mode": {
    "name": "ipython",
    "version": 3
   },
   "file_extension": ".py",
   "mimetype": "text/x-python",
   "name": "python",
   "nbconvert_exporter": "python",
   "pygments_lexer": "ipython3",
   "version": "3.10.8"
  },
  "orig_nbformat": 4,
  "vscode": {
   "interpreter": {
    "hash": "7f2b4366d7ac7cef5a5221903c0aa5f404ea296b3bc909512e12b31dde7214a7"
   }
  }
 },
 "nbformat": 4,
 "nbformat_minor": 2
}
